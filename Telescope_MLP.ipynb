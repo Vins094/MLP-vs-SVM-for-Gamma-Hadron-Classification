{
 "cells": [
  {
   "cell_type": "markdown",
   "id": "c67c9382",
   "metadata": {},
   "source": [
    "Import Libraries"
   ]
  },
  {
   "cell_type": "code",
   "execution_count": 35,
   "id": "a2bf5b25",
   "metadata": {},
   "outputs": [],
   "source": [
    "import pandas as pd\n",
    "import numpy as np\n",
    "import torch.nn as nn\n",
    "import torch.nn.functional as F\n",
    "from sklearn.model_selection import train_test_split\n",
    "import matplotlib.pyplot as plt\n",
    "%matplotlib inline\n",
    "import time\n",
    "import seaborn as sns\n",
    "import torch\n",
    "import time\n",
    "from skorch import NeuralNetClassifier\n",
    "from sklearn.model_selection import GridSearchCV\n",
    "from skorch.callbacks import EarlyStopping\n",
    "from sklearn.metrics import accuracy_score,auc,classification_report,f1_score,precision_score,recall_score\n",
    "from sklearn.metrics import RocCurveDisplay\n",
    "from sklearn.metrics import roc_curve, auc\n",
    "import joblib\n",
    "from imblearn.over_sampling import SMOTE\n",
    "import time\n",
    "from skorch.callbacks import Checkpoint\n",
    "from sklearn.metrics import confusion_matrix"
   ]
  },
  {
   "cell_type": "code",
   "execution_count": 10,
   "id": "c7ac8387",
   "metadata": {},
   "outputs": [],
   "source": [
    "#Load pre-processed data\n",
    "x_train = pd.read_csv('x_train.csv')\n",
    "x_test = pd.read_csv('x_test.csv')\n",
    "y_train = pd.read_csv('y_train.csv')\n",
    "y_test = pd.read_csv('y_test.csv')"
   ]
  },
  {
   "cell_type": "code",
   "execution_count": 12,
   "id": "71a03dad",
   "metadata": {},
   "outputs": [
    {
     "data": {
      "text/plain": [
       "class\n",
       "1        2466\n",
       "0        1315\n",
       "dtype: int64"
      ]
     },
     "execution_count": 12,
     "metadata": {},
     "output_type": "execute_result"
    }
   ],
   "source": [
    "y_test.value_counts()"
   ]
  },
  {
   "cell_type": "code",
   "execution_count": 34,
   "id": "220fc233",
   "metadata": {},
   "outputs": [],
   "source": [
    "#34% Hadron #65.22% Hadron"
   ]
  },
  {
   "cell_type": "code",
   "execution_count": 17,
   "id": "b0e54041",
   "metadata": {},
   "outputs": [],
   "source": [
    "#Balancing the data\n",
    "#X_resampled, y_resampled = SMOTE().fit_resample(x_train, y_train)"
   ]
  },
  {
   "cell_type": "code",
   "execution_count": 18,
   "id": "40cedb91",
   "metadata": {},
   "outputs": [],
   "source": [
    "# print(f'before balancing: {y_train.value_counts()}')\n",
    "# print(f'after balancing: {y_resampled.value_counts()}')"
   ]
  },
  {
   "cell_type": "code",
   "execution_count": 19,
   "id": "01e8a2ba",
   "metadata": {},
   "outputs": [],
   "source": [
    "# x_train_over = np.array(X_resampled)\n",
    "# x_test = np.array(x_test)\n",
    "# y_train_over = np.array(y_resampled).ravel()\n",
    "# y_test = np.array(y_test).ravel()\n"
   ]
  },
  {
   "cell_type": "code",
   "execution_count": 20,
   "id": "00beec0c",
   "metadata": {},
   "outputs": [],
   "source": [
    "#Converted to numpy array\n",
    "x_train = np.array(x_train)\n",
    "x_test = np.array(x_test)\n",
    "y_train = np.array(y_train).ravel()\n",
    "y_test = np.array(y_test).ravel()"
   ]
  },
  {
   "cell_type": "code",
   "execution_count": 21,
   "id": "42a00990",
   "metadata": {},
   "outputs": [
    {
     "name": "stdout",
     "output_type": "stream",
     "text": [
      "x_train shape: (15124, 9), y_train shape: (15124,), x_test shape: (3781, 9), y_test shape: (3781,)\n"
     ]
    }
   ],
   "source": [
    "print(f'x_train shape: {x_train.shape}, y_train shape: {y_train.shape}, x_test shape: {x_test.shape}, y_test shape: {y_test.shape}')"
   ]
  },
  {
   "cell_type": "code",
   "execution_count": 22,
   "id": "372aa78b",
   "metadata": {},
   "outputs": [],
   "source": [
    "# print(f'x_train shape: {x_train_over.shape}, y_train shape: {y_train_over.shape}, x_test shape: {x_test.shape}, y_test shape: {y_test.shape}')"
   ]
  },
  {
   "cell_type": "code",
   "execution_count": 23,
   "id": "8c1a4cac",
   "metadata": {},
   "outputs": [],
   "source": [
    "#Define input, output and dropout\n",
    "input_layer = 9 # input is 9 as there are nine predictors\n",
    "hidden_layers = [50,100] # experimented with different hidden layers list defines first hidden layer has 50 neurons and second has 100\n",
    "# hidden_layers = [50,100, 120]\n",
    "# hidden_layers = [10,20]\n",
    "output_layer = 2 #it is a binary classification, so two perceptrons in output layer\n",
    "dropout = 0.5 #experimented with different value of dropout -0.5,0.7,0.8"
   ]
  },
  {
   "cell_type": "code",
   "execution_count": 24,
   "id": "bef335d8",
   "metadata": {},
   "outputs": [],
   "source": [
    "#Define feed forward network\n",
    "class telescope_net(nn.Module):\n",
    "    def __init__(self,\n",
    "                 input_dim = input_layer,\n",
    "                 hidden_dim = hidden_layers,\n",
    "                 output_dim = output_layer,\n",
    "                 dropout = dropout\n",
    "                ):\n",
    "        super(telescope_net, self).__init__() #instantiate nn.module\n",
    "        self.fc1 = nn.Linear(input_layer, hidden_layers[0]) #9 features so input layer has 9 neurons\n",
    "        self.dropout = nn.Dropout(dropout)\n",
    "        self.hidden_layers = nn.ModuleList([nn.Linear(hidden_layers[i], hidden_layers[i+1]) for i in range(len(hidden_layers)-1)])\n",
    "       \n",
    "        self.out = nn.Linear(hidden_dim[-1] ,output_layer)\n",
    "        self.relu = nn.ReLU()\n",
    "        self.softmax = nn.Softmax(dim =-1) #dim -1 as my output is one dimensional\n",
    "        #self.tanh = nn.Tanh()\n",
    "      \n",
    "        \n",
    "    \n",
    "    \n",
    "    def forward(self, x): #x is input\n",
    "        x = self.relu(self.fc1(x)) #activation function relu is firing \n",
    "        x = self.dropout(x)#droput is used to reduce overfitting\n",
    "        for layer in self.hidden_layers: # performed with for loop to reduce code size\n",
    "            x = self.relu(layer(x))\n",
    "            x = self.dropout(x) \n",
    "        #x = self.out\n",
    "        x = self.softmax(self.out(x)) #softmax function firing on output layer, it will give probability of each class(gamma or Hadron)\n",
    "        \n",
    "        \n",
    "        return x"
   ]
  },
  {
   "cell_type": "code",
   "execution_count": 25,
   "id": "4e11436b",
   "metadata": {},
   "outputs": [],
   "source": [
    "#Not used now as we have considered checkpoint with monitor with best validation loss\n",
    "# from skorch.callbacks import Callback\n",
    "\n",
    "# class EarlyStoppingAccuracyThreshold(Callback):\n",
    "#     def __init__(self, accuracy_threshold):\n",
    "#         super().__init__()\n",
    "#         self.accuracy_threshold = accuracy_threshold\n",
    "\n",
    "#     def on_epoch_end(self, net, dataset_train=None, dataset_valid=None, **kwargs): #https://skorch.readthedocs.io/en/stable/callbacks.html\n",
    "#         if dataset_valid is not None:\n",
    "#             accuracy = net.history[-1, 'valid_acc']\n",
    "#             if accuracy > self.accuracy_threshold:\n",
    "#                 print(f\"Validation accuracy reached {accuracy*100}%, stopping training.\")\n",
    "#                 raise KeyboardInterrupt\n"
   ]
  },
  {
   "cell_type": "code",
   "execution_count": 26,
   "id": "d1dca82b",
   "metadata": {},
   "outputs": [],
   "source": [
    "#Defie NeuralNetClassifier\n",
    "# net = NeuralNetClassifier(\n",
    "#     telescope_net,\n",
    "#     criterion = nn.CrossEntropyLoss,\n",
    "#     lr=0.0003,\n",
    "#     max_epochs=200,\n",
    "#     optimizer = torch.optim.SGD,\n",
    "#     optimizer__weight_decay=0.01,\n",
    "#     optimizer__momentum=0.98,\n",
    "    \n",
    "#    #callbacks=[EarlyStoppingAccuracyThreshold(accuracy_threshold=0.81)],\n",
    "#     #callbacks = [EarlyStopping(patience = 20)] # experimented with Early stopping with patience value = default(5) and 20 by defining\n",
    "#  ) "
   ]
  },
  {
   "cell_type": "code",
   "execution_count": 29,
   "id": "417cf776",
   "metadata": {},
   "outputs": [],
   "source": [
    "checkpoint = Checkpoint(monitor='valid_loss_best') #checkpoint is used so that callback will monitor the validation loss and save the \n",
    "#model with least loss "
   ]
  },
  {
   "cell_type": "code",
   "execution_count": 30,
   "id": "59b4f201",
   "metadata": {},
   "outputs": [],
   "source": [
    "#final Final model \n",
    "net = NeuralNetClassifier(\n",
    "    telescope_net,\n",
    "    criterion = nn.CrossEntropyLoss,\n",
    "    #criterion =nn.BCEWithLogitsLoss,\n",
    "    lr=0.003,\n",
    "    max_epochs=200,\n",
    "    optimizer = torch.optim.Adam,\n",
    "    optimizer__weight_decay=0.001,\n",
    "    #optimizer__momentum=0.95,\n",
    "    #callbacks=[EarlyStoppingAccuracyThreshold(accuracy_threshold=0.8740)],\n",
    "    callbacks = [checkpoint]\n",
    " ) "
   ]
  },
  {
   "cell_type": "markdown",
   "id": "fd7f39ef",
   "metadata": {},
   "source": [
    "## x_train"
   ]
  },
  {
   "cell_type": "code",
   "execution_count": 32,
   "id": "8b66f234",
   "metadata": {},
   "outputs": [],
   "source": [
    "x_train = x_train.astype(np.float32) #Changed datatype of features required for skorch to train the model\n",
    "y_train = y_train.astype(np.int64)\n",
    "x_test = x_test.astype(np.float32)\n",
    "y_test = y_test.astype(np.int64)"
   ]
  },
  {
   "cell_type": "code",
   "execution_count": 33,
   "id": "3b4b52a5",
   "metadata": {
    "scrolled": false
   },
   "outputs": [
    {
     "name": "stdout",
     "output_type": "stream",
     "text": [
      "  epoch    train_loss    valid_acc    valid_loss    cp     dur\n",
      "-------  ------------  -----------  ------------  ----  ------\n",
      "      1        \u001b[36m0.5451\u001b[0m       \u001b[32m0.8162\u001b[0m        \u001b[35m0.4870\u001b[0m     +  0.3294\n",
      "      2        \u001b[36m0.4970\u001b[0m       \u001b[32m0.8327\u001b[0m        \u001b[35m0.4754\u001b[0m     +  0.2611\n",
      "      3        \u001b[36m0.4862\u001b[0m       \u001b[32m0.8407\u001b[0m        \u001b[35m0.4661\u001b[0m     +  0.2872\n",
      "      4        \u001b[36m0.4779\u001b[0m       \u001b[32m0.8466\u001b[0m        \u001b[35m0.4593\u001b[0m     +  0.2706\n",
      "      5        \u001b[36m0.4706\u001b[0m       \u001b[32m0.8588\u001b[0m        \u001b[35m0.4517\u001b[0m     +  0.2526\n",
      "      6        \u001b[36m0.4698\u001b[0m       0.8585        \u001b[35m0.4511\u001b[0m     +  0.2484\n",
      "      7        \u001b[36m0.4649\u001b[0m       \u001b[32m0.8592\u001b[0m        \u001b[35m0.4496\u001b[0m     +  0.2984\n",
      "      8        \u001b[36m0.4646\u001b[0m       \u001b[32m0.8605\u001b[0m        \u001b[35m0.4485\u001b[0m     +  0.2782\n",
      "      9        \u001b[36m0.4638\u001b[0m       \u001b[32m0.8631\u001b[0m        \u001b[35m0.4477\u001b[0m     +  0.2410\n",
      "     10        \u001b[36m0.4620\u001b[0m       0.8585        0.4494        0.3253\n",
      "     11        \u001b[36m0.4586\u001b[0m       0.8612        \u001b[35m0.4460\u001b[0m     +  0.2810\n",
      "     12        0.4617       0.8615        \u001b[35m0.4442\u001b[0m     +  0.2664\n",
      "     13        0.4593       \u001b[32m0.8664\u001b[0m        0.4446        0.2636\n",
      "     14        0.4598       \u001b[32m0.8694\u001b[0m        \u001b[35m0.4416\u001b[0m     +  0.2551\n",
      "     15        \u001b[36m0.4583\u001b[0m       0.8641        0.4435        0.2783\n",
      "     16        \u001b[36m0.4582\u001b[0m       \u001b[32m0.8698\u001b[0m        \u001b[35m0.4412\u001b[0m     +  0.2630\n",
      "     17        \u001b[36m0.4541\u001b[0m       0.8674        0.4417        0.3286\n",
      "     18        0.4563       0.8664        0.4440        0.2897\n",
      "     19        0.4558       0.8684        \u001b[35m0.4398\u001b[0m     +  0.2842\n",
      "     20        0.4570       0.8671        0.4420        0.2693\n",
      "     21        0.4558       0.8694        0.4402        0.2537\n",
      "     22        0.4573       0.8691        0.4412        0.2707\n",
      "     23        0.4553       0.8655        0.4412        0.2872\n",
      "     24        \u001b[36m0.4532\u001b[0m       0.8661        0.4409        0.2898\n",
      "     25        0.4557       0.8678        0.4404        0.3210\n",
      "     26        0.4587       0.8681        \u001b[35m0.4390\u001b[0m     +  0.2273\n",
      "     27        0.4549       0.8631        0.4431        0.2623\n",
      "     28        0.4569       0.8615        0.4462        0.2446\n",
      "     29        0.4556       0.8651        0.4408        0.2396\n",
      "     30        0.4548       0.8691        \u001b[35m0.4381\u001b[0m     +  0.2577\n",
      "     31        0.4556       0.8621        0.4412        0.3106\n",
      "     32        0.4555       0.8678        0.4400        0.2879\n",
      "     33        0.4550       0.8645        0.4429        0.2939\n",
      "     34        0.4550       0.8641        0.4436        0.2723\n",
      "     35        0.4566       0.8698        0.4396        0.2777\n",
      "     36        0.4553       0.8671        0.4402        0.2703\n",
      "     37        0.4542       0.8668        0.4420        0.2692\n",
      "     38        0.4551       0.8625        0.4423        0.2866\n",
      "     39        0.4541       0.8635        0.4422        0.3017\n",
      "     40        0.4562       0.8651        0.4399        0.2765\n",
      "     41        0.4544       0.8658        0.4405        0.2582\n",
      "     42        0.4553       \u001b[32m0.8711\u001b[0m        0.4403        0.2712\n",
      "     43        0.4579       0.8631        0.4416        0.2906\n",
      "     44        0.4557       0.8655        0.4415        0.2983\n",
      "     45        0.4546       0.8655        0.4413        0.2900\n",
      "     46        0.4548       0.8648        0.4409        0.3059\n",
      "     47        0.4553       0.8641        0.4426        0.3063\n",
      "     48        0.4545       0.8671        0.4410        0.3217\n",
      "     49        0.4559       0.8655        0.4415        0.2775\n",
      "     50        0.4549       0.8651        0.4414        0.2794\n",
      "     51        0.4548       0.8655        0.4414        0.2674\n",
      "     52        0.4565       0.8655        0.4438        0.2623\n",
      "     53        0.4558       0.8678        0.4413        0.2956\n",
      "     54        0.4548       0.8658        0.4407        0.2800\n",
      "     55        0.4561       0.8661        0.4422        0.2794\n",
      "     56        0.4559       0.8605        0.4446        0.2752\n",
      "     57        0.4547       0.8664        0.4415        0.2660\n",
      "     58        0.4546       0.8661        0.4396        0.2535\n",
      "     59        0.4549       0.8648        0.4416        0.2923\n",
      "     60        0.4566       0.8655        0.4416        0.2792\n",
      "     61        0.4567       0.8678        0.4399        0.2678\n",
      "     62        0.4555       0.8684        0.4398        0.2782\n",
      "     63        0.4560       0.8671        0.4410        0.2623\n",
      "     64        0.4589       0.8674        0.4391        0.2714\n",
      "     65        0.4556       0.8658        0.4401        0.2669\n",
      "     66        0.4540       0.8631        0.4420        0.2671\n",
      "     67        0.4569       0.8664        0.4403        0.2909\n",
      "     68        0.4546       0.8674        0.4403        0.2657\n",
      "     69        0.4537       0.8678        0.4402        0.2778\n",
      "     70        0.4555       0.8688        0.4397        0.2998\n",
      "     71        0.4533       0.8701        \u001b[35m0.4377\u001b[0m     +  0.2698\n",
      "     72        0.4549       \u001b[32m0.8721\u001b[0m        0.4378        0.2686\n",
      "     73        0.4546       0.8711        \u001b[35m0.4376\u001b[0m     +  0.2541\n",
      "     74        0.4543       0.8674        0.4404        0.2747\n",
      "     75        0.4550       0.8681        0.4395        0.2821\n",
      "     76        0.4556       0.8651        0.4411        0.2766\n",
      "     77        0.4546       0.8635        0.4432        0.2974\n",
      "     78        0.4564       0.8655        0.4415        0.2887\n",
      "     79        0.4566       0.8621        0.4435        0.2823\n",
      "     80        0.4548       0.8635        0.4421        0.2601\n",
      "     81        0.4555       0.8648        0.4417        0.2844\n",
      "     82        0.4554       0.8684        0.4400        0.2891\n",
      "     83        0.4539       0.8651        0.4396        0.2893\n",
      "     84        0.4557       0.8684        0.4393        0.2729\n",
      "     85        0.4540       0.8698        0.4389        0.2913\n",
      "     86        0.4556       0.8671        0.4414        0.2825\n",
      "     87        0.4548       0.8678        0.4395        0.3069\n",
      "     88        0.4571       0.8648        0.4421        0.2773\n",
      "     89        0.4569       0.8691        \u001b[35m0.4376\u001b[0m     +  0.2964\n",
      "     90        0.4551       0.8678        0.4403        0.2653\n",
      "     91        0.4545       0.8674        0.4394        0.2849\n",
      "     92        0.4549       0.8668        0.4405        0.2877\n",
      "     93        0.4549       0.8668        0.4408        0.3302\n",
      "     94        0.4561       0.8688        0.4406        0.2924\n",
      "     95        0.4550       0.8664        0.4417        0.3071\n",
      "     96        0.4562       0.8651        0.4420        0.2676\n",
      "     97        0.4548       0.8681        0.4409        0.2617\n",
      "     98        0.4567       0.8638        0.4422        0.2974\n",
      "     99        0.4541       0.8661        0.4425        0.3079\n",
      "    100        0.4546       0.8608        0.4427        0.2653\n",
      "    101        0.4542       0.8658        0.4410        0.2746\n",
      "    102        0.4547       0.8664        0.4414        0.2555\n",
      "    103        0.4548       0.8645        0.4418        0.2790\n",
      "    104        0.4543       0.8641        0.4401        0.2706\n",
      "    105        0.4557       0.8661        0.4412        0.2909\n",
      "    106        0.4535       0.8664        0.4403        0.2944\n",
      "    107        0.4567       0.8664        0.4414        0.2852\n",
      "    108        0.4540       0.8701        0.4394        0.2769\n",
      "    109        0.4564       0.8671        0.4396        0.2621\n",
      "    110        0.4555       0.8625        0.4417        0.2473\n",
      "    111        0.4565       0.8674        0.4399        0.2917\n",
      "    112        0.4566       0.8641        0.4438        0.2794\n",
      "    113        0.4558       0.8638        0.4430        0.2575\n",
      "    114        0.4539       0.8635        0.4421        0.2603\n",
      "    115        0.4564       0.8635        0.4411        0.2713\n",
      "    116        0.4545       0.8674        0.4405        0.2745\n",
      "    117        0.4537       0.8684        0.4396        0.2942\n",
      "    118        0.4547       0.8658        0.4419        0.2671\n",
      "    119        0.4567       0.8704        0.4384        0.2679\n",
      "    120        0.4570       0.8664        0.4405        0.2473\n",
      "    121        0.4545       0.8681        0.4402        0.2540\n",
      "    122        0.4554       0.8681        0.4406        0.2455\n"
     ]
    },
    {
     "name": "stdout",
     "output_type": "stream",
     "text": [
      "    123        0.4561       0.8655        0.4398        0.2821\n",
      "    124        0.4557       0.8635        0.4427        0.2838\n",
      "    125        0.4553       0.8621        0.4441        0.2886\n",
      "    126        0.4569       0.8658        0.4423        0.2789\n",
      "    127        0.4555       0.8631        0.4425        0.2788\n",
      "    128        0.4541       0.8635        0.4410        0.2855\n",
      "    129        0.4551       0.8655        0.4394        0.2994\n",
      "    130        0.4560       0.8655        0.4416        0.2870\n",
      "    131        0.4553       0.8674        0.4401        0.2915\n",
      "    132        0.4557       0.8645        0.4419        0.2778\n",
      "    133        0.4551       0.8658        0.4412        0.2697\n",
      "    134        0.4549       0.8658        0.4407        0.2704\n",
      "    135        0.4564       0.8605        0.4430        0.2870\n",
      "    136        0.4561       0.8645        0.4396        0.2741\n",
      "    137        0.4553       0.8688        0.4400        0.2853\n",
      "    138        0.4541       0.8658        0.4396        0.2625\n",
      "    139        0.4539       0.8645        0.4414        0.2673\n",
      "    140        0.4540       0.8645        0.4422        0.2736\n",
      "    141        0.4566       0.8628        0.4423        0.2805\n",
      "    142        0.4562       0.8655        0.4409        0.2884\n",
      "    143        0.4569       0.8621        0.4441        0.2737\n",
      "    144        0.4545       0.8664        0.4419        0.2739\n",
      "    145        0.4541       0.8674        0.4402        0.2601\n",
      "    146        0.4537       0.8661        0.4403        0.2858\n",
      "    147        0.4549       0.8655        0.4397        0.2701\n",
      "    148        \u001b[36m0.4531\u001b[0m       0.8651        0.4401        0.2718\n",
      "    149        0.4542       0.8645        0.4413        0.2848\n",
      "    150        0.4539       0.8621        0.4426        0.2768\n",
      "    151        0.4548       0.8674        0.4388        0.2762\n",
      "    152        0.4547       0.8681        0.4398        0.2688\n",
      "    153        0.4552       0.8658        0.4410        0.2680\n",
      "    154        0.4544       0.8648        0.4416        0.2799\n",
      "    155        0.4552       0.8661        0.4406        0.2773\n",
      "    156        0.4537       0.8648        0.4410        0.2773\n",
      "    157        0.4554       0.8684        0.4402        0.2839\n",
      "    158        0.4547       0.8681        0.4388        0.2677\n",
      "    159        0.4537       0.8678        0.4402        0.2789\n",
      "    160        0.4563       0.8641        0.4402        0.2781\n",
      "    161        0.4546       0.8678        0.4415        0.2810\n",
      "    162        0.4563       0.8664        0.4411        0.2910\n",
      "    163        0.4547       0.8691        0.4409        0.2647\n",
      "    164        0.4546       0.8678        0.4391        0.2737\n",
      "    165        0.4546       0.8651        0.4425        0.2788\n",
      "    166        0.4556       0.8671        0.4407        0.2885\n",
      "    167        0.4570       0.8661        0.4408        0.2748\n",
      "    168        0.4557       0.8628        0.4437        0.2808\n",
      "    169        0.4543       0.8668        0.4396        0.2743\n",
      "    170        0.4537       0.8664        0.4397        0.2793\n",
      "    171        0.4536       0.8684        0.4394        0.2626\n",
      "    172        0.4556       0.8651        0.4417        0.2823\n",
      "    173        0.4564       0.8631        0.4443        0.2724\n",
      "    174        0.4558       0.8651        0.4413        0.2823\n",
      "    175        0.4548       0.8655        0.4401        0.2900\n",
      "    176        0.4568       0.8668        0.4413        0.2634\n",
      "    177        0.4563       0.8678        0.4400        0.2826\n",
      "    178        0.4550       0.8645        0.4414        0.2655\n",
      "    179        0.4558       0.8684        0.4390        0.2760\n",
      "    180        0.4545       0.8635        0.4418        0.2685\n",
      "    181        0.4539       0.8681        0.4407        0.2711\n",
      "    182        0.4570       0.8671        0.4395        0.3060\n",
      "    183        0.4539       0.8631        0.4437        0.2994\n",
      "    184        0.4536       0.8684        0.4400        0.2981\n",
      "    185        0.4564       0.8664        0.4397        0.2794\n",
      "    186        0.4567       0.8661        0.4402        0.2767\n",
      "    187        0.4543       0.8664        0.4404        0.2981\n",
      "    188        0.4563       0.8668        0.4411        0.2693\n",
      "    189        0.4556       0.8655        0.4437        0.2801\n",
      "    190        0.4565       0.8641        0.4404        0.3301\n",
      "    191        0.4535       0.8684        0.4384        0.2767\n",
      "    192        0.4575       0.8651        0.4405        0.2496\n",
      "    193        0.4571       0.8641        0.4428        0.2942\n",
      "    194        0.4547       0.8631        0.4434        0.2816\n",
      "    195        0.4544       0.8664        0.4411        0.2771\n",
      "    196        0.4554       0.8618        0.4448        0.2802\n",
      "    197        0.4555       0.8671        0.4407        0.2889\n",
      "    198        0.4533       0.8651        0.4401        0.2759\n",
      "    199        0.4553       0.8658        0.4398        0.2616\n",
      "    200        0.4562       0.8631        0.4424        0.2338\n",
      "Training completed in 0m 58s\n"
     ]
    }
   ],
   "source": [
    "#Train the model with best hyperparameters with noting down its time\n",
    "start_time = time.time()\n",
    "net.fit(x_train,y_train)\n",
    "end_time = time.time()\n",
    "elapsed_time = end_time- start_time\n",
    "print(f\"Training completed in {elapsed_time // 60:.0f}m {elapsed_time % 60:.0f}s\")"
   ]
  },
  {
   "cell_type": "code",
   "execution_count": 291,
   "id": "700f003e",
   "metadata": {},
   "outputs": [],
   "source": [
    "#load the parameters (weights bias etc which has least validation loss)\n",
    "net.load_params(checkpoint=checkpoint)"
   ]
  },
  {
   "cell_type": "code",
   "execution_count": 292,
   "id": "53c55352",
   "metadata": {},
   "outputs": [
    {
     "data": {
      "image/png": "[encoded data removed]",
      "text/plain": [
       "<Figure size 640x480 with 1 Axes>"
      ]
     },
     "metadata": {},
     "output_type": "display_data"
    }
   ],
   "source": [
    "#plot graoh for epoch vs loss obtained during training\n",
    "training_losses = net.history[:, 'train_loss'] \n",
    "validation_losses = net.history[:, 'valid_loss']\n",
    "\n",
    "plt.plot(np.arange(len(training_losses)), training_losses, label='Training Loss', )\n",
    "plt.plot(np.arange(len(validation_losses)), validation_losses, label='Validation Loss')\n",
    "plt.xlabel('Epochs')\n",
    "plt.ylabel('Loss')\n",
    "\n",
    "plt.legend()\n",
    "\n",
    "plt.title('comparison of training and validation losses vs Epochs')\n",
    "plt.show()"
   ]
  },
  {
   "cell_type": "code",
   "execution_count": 244,
   "id": "256177a7",
   "metadata": {},
   "outputs": [
    {
     "data": {
      "text/plain": [
       "<bound method NeuralNetClassifier.get_loss of <class 'skorch.classifier.NeuralNetClassifier'>[initialized](\n",
       "  module_=telescope_net(\n",
       "    (fc1): Linear(in_features=9, out_features=50, bias=True)\n",
       "    (dropout): Dropout(p=0.5, inplace=False)\n",
       "    (hidden_layers): ModuleList(\n",
       "      (0): Linear(in_features=50, out_features=100, bias=True)\n",
       "    )\n",
       "    (out): Linear(in_features=100, out_features=2, bias=True)\n",
       "    (relu): ReLU()\n",
       "    (softmax): Softmax(dim=-1)\n",
       "  ),\n",
       ")>"
      ]
     },
     "execution_count": 244,
     "metadata": {},
     "output_type": "execute_result"
    }
   ],
   "source": [
    "net #check the network"
   ]
  },
  {
   "cell_type": "code",
   "execution_count": 293,
   "id": "165479d3",
   "metadata": {},
   "outputs": [
    {
     "data": {
      "text/plain": [
       "array([0, 0, 0, ..., 1, 0, 1], dtype=int64)"
      ]
     },
     "execution_count": 293,
     "metadata": {},
     "output_type": "execute_result"
    }
   ],
   "source": [
    "y_pred = net.predict(x_test) #predict the output\n",
    "y_pred"
   ]
  },
  {
   "cell_type": "code",
   "execution_count": 294,
   "id": "e463f0d1",
   "metadata": {},
   "outputs": [
    {
     "data": {
      "image/png": "[encoded data removed]",
      "text/plain": [
       "<Figure size 700x500 with 1 Axes>"
      ]
     },
     "metadata": {},
     "output_type": "display_data"
    }
   ],
   "source": [
    "y_pred_prob = net.predict_proba(x_test) # Predict probabilities for both class(gamma and hadron)\n",
    "\n",
    "\n",
    "fpr_0, tpr_0, _ = roc_curve(y_test, y_pred_prob[:, 0], pos_label=0) # Compute FPR and TPR for creating ROC curve\n",
    "fpr_1, tpr_1, _ = roc_curve(y_test, y_pred_prob[:, 1], pos_label=1)\n",
    "#0 for Hadron and 1 for gamma\n",
    "\n",
    "roc_auc_class0 = auc(fpr_0, tpr_0)  # Calculate AUC values for both class\n",
    "roc_auc_class1 = auc(fpr_1, tpr_1)\n",
    "\n",
    "plt.figure(figsize=(6, 4))  #plot ROC curve for both class\n",
    "\n",
    "# Plot ROC curve for Hadron (class 0)\n",
    "plt.plot(fpr_0, tpr_0, label=f'Gamma (AUC = {roc_auc_class0:.2f})')\n",
    "\n",
    "# Plot ROC curve for Gamma (class 1) \n",
    "plt.plot(fpr_1, tpr_1, label=f'Hadron (AUC = {roc_auc_class1:.2f})')\n",
    "\n",
    "\n",
    "plt.xlabel('False Positive Rate') #set labels\n",
    "plt.ylabel('True Positive Rate')\n",
    "plt.title('ROC Curve')\n",
    "plt.legend() #legends described in label above\n",
    "\n",
    "# Show the plot\n",
    "plt.show()\n"
   ]
  },
  {
   "cell_type": "code",
   "execution_count": 295,
   "id": "13bfaaea",
   "metadata": {},
   "outputs": [],
   "source": [
    "\n",
    "cm_mlp = confusion_matrix(y_test, y_pred) #create confusion matrix"
   ]
  },
  {
   "cell_type": "code",
   "execution_count": 296,
   "id": "600b5cda",
   "metadata": {},
   "outputs": [
    {
     "data": {
      "text/plain": [
       "<Axes: >"
      ]
     },
     "execution_count": 296,
     "metadata": {},
     "output_type": "execute_result"
    },
    {
     "data": {
      "image/png": "[encoded data removed]",
      "text/plain": [
       "<Figure size 640x480 with 2 Axes>"
      ]
     },
     "metadata": {},
     "output_type": "display_data"
    }
   ],
   "source": [
    "sns.heatmap(cm_mlp, annot= True , fmt='d') # Plot confusion matrix using heatmap"
   ]
  },
  {
   "cell_type": "code",
   "execution_count": 297,
   "id": "74a4cd36",
   "metadata": {},
   "outputs": [],
   "source": [
    "#performance metrics \n",
    "accuracy = accuracy_score(y_test, y_pred)\n",
    "f1_score = f1_score(y_test, y_pred)\n",
    "precision_score =  precision_score(y_test, y_pred)\n",
    "recall_score = recall_score(y_test, y_pred)"
   ]
  },
  {
   "cell_type": "code",
   "execution_count": 298,
   "id": "1c97cc8e",
   "metadata": {},
   "outputs": [
    {
     "name": "stdout",
     "output_type": "stream",
     "text": [
      "Accuracy: 0.8661729701137265, F1_score: 0.9020897832817337,precision_score: 0.8626943005181347,recall_score: 0.9452554744525548\n"
     ]
    }
   ],
   "source": [
    "print(f'Accuracy: {accuracy}, F1_score: {f1_score},precision_score: {precision_score},recall_score: {recall_score}')"
   ]
  },
  {
   "cell_type": "code",
   "execution_count": 299,
   "id": "c720aa6a",
   "metadata": {},
   "outputs": [
    {
     "data": {
      "text/plain": [
       "['MLP_best_model']"
      ]
     },
     "execution_count": 299,
     "metadata": {},
     "output_type": "execute_result"
    }
   ],
   "source": [
    "#Save best model\n",
    "#joblib.dump(net, 'MLP_best_model')"
   ]
  }
 ],
 "metadata": {
  "kernelspec": {
   "display_name": "Python 3 (ipykernel)",
   "language": "python",
   "name": "python3"
  },
  "language_info": {
   "codemirror_mode": {
    "name": "ipython",
    "version": 3
   },
   "file_extension": ".py",
   "mimetype": "text/x-python",
   "name": "python",
   "nbconvert_exporter": "python",
   "pygments_lexer": "ipython3",
   "version": "3.10.9"
  }
 },
 "nbformat": 4,
 "nbformat_minor": 5
}
